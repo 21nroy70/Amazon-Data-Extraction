{
 "cells": [
  {
   "cell_type": "code",
   "execution_count": 8,
   "id": "311d22dd",
   "metadata": {},
   "outputs": [],
   "source": [
    "from bs4 import BeautifulSoup #this will be the core to importing and webscraping\n",
    "import requests\n",
    "import time\n",
    "import datetime\n",
    "from datetime import datetime\n",
    "import csv\n",
    "import pandas as pd\n",
    "\n",
    "import smtplib"
   ]
  },
  {
   "cell_type": "code",
   "execution_count": 9,
   "id": "a528b1ad",
   "metadata": {},
   "outputs": [
    {
     "name": "stdout",
     "output_type": "stream",
     "text": [
      "Title: iHealth COVID-19 Antigen Rapid Test, 2 Tests per Pack,FDA EUA Authorized OTC At-home Self Test, Results in 15 Minutes with Non-invasive Nasal Swab, Easy to Use & No Discomfort\n",
      "\n"
     ]
    }
   ],
   "source": [
    "#Importing and gathering url/data from Amazon\n",
    "\n",
    "url = 'https://www.amazon.com/iHealth-COVID-19-Authorized-Non-invasive-Discomfort/dp/B09KZ6TBNY/ref=sr_1_1?crid=309XZ1MAR0I5F&keywords=covid+19+test+kits&qid=1657386633&s=software&sprefix=covid+19+test+kits%2Csoftware%2C59&sr=1-1'\n",
    "\n",
    "header = {\"User-Agent\": \"Mozilla/5.0 (Macintosh; Intel Mac OS X 10_15_7) AppleWebKit/537.36 (KHTML, like Gecko) Chrome/100.0.4896.127 Safari/537.36\", \"Accept-Encoding\":\"gzip, deflate\", \"Accept\":\"text/html,application/xhtml+xml,application/xml;q=0.9,*/*;q=0.8\", \"DNT\":\"1\",\"Connection\":\"close\", \"Upgrade-Insecure-Requests\":\"1\"}\n",
    "page = requests.get(url, headers = header)\n",
    "\n",
    "soup1 = BeautifulSoup(page.content, \"html.parser\")\n",
    "#print(soup1)\n",
    "soup2 = BeautifulSoup(soup1.prettify(), \"html.parser\") #make this much Simpler and easier to parse\n",
    "\n",
    "title = soup2.find(id=\"title\").get_text().strip() #searches for id = \"title\" and returns the text associated with it\n",
    "\n",
    "print(\"Title: \" + title + \"\\n\")\n"
   ]
  },
  {
   "cell_type": "code",
   "execution_count": 10,
   "id": "98e24a04",
   "metadata": {},
   "outputs": [
    {
     "name": "stdout",
     "output_type": "stream",
     "text": [
      "Price: $17.08\n",
      "\n",
      "Reviews: 176,599 ratings\n",
      "\n",
      "Average Rating: 4.5 out of 5 stars\n",
      "\n"
     ]
    }
   ],
   "source": [
    "\n",
    "price = soup2.find(id = \"sns-base-price\").get_text().strip()\n",
    "\n",
    "reviewNum = soup2.find(id = \"acrCustomerReviewText\").get_text().strip() #searches and returns the string with the certain id\n",
    "reviewStar = soup2.find(id = \"acrPopover\").get_text().strip() \n",
    "print(\"Price: \" + price + \"\\n\\n\" + \"Reviews: \" + reviewNum +  \"\\n\\n\" + \"Average Rating: \" + reviewStar + \"\\n\")\n",
    "\n",
    "#cleaning data to make sure it is in best format when converting to a file for data use:\n",
    "\n",
    "price = price.strip()[1:] #using all of the text after 1st index\n"
   ]
  },
  {
   "cell_type": "code",
   "execution_count": 5,
   "id": "df1c82a3",
   "metadata": {},
   "outputs": [],
   "source": [
    "#using the import csv and create one\n",
    "\n",
    "header = [\"Title\", \"Price\", \"Number of Reviews\", \"Average Rating\", \"Date\"]\n",
    "data = [title, price, reviewNum,reviewStar, date] #data is a type list with the variables created earlier\n",
    "\n",
    "with open(\"AmazonWebScrape.csv\", \"w\", newline = '', encoding = \"UTF8\") as f:\n",
    "    writer = csv.writer(f)\n",
    "    writer.writerow(header) \n",
    "    writer.writerow(data)\n",
    "    \n"
   ]
  },
  {
   "cell_type": "code",
   "execution_count": 8,
   "id": "cd89d49d",
   "metadata": {},
   "outputs": [
    {
     "name": "stdout",
     "output_type": "stream",
     "text": [
      "                                               Title  Price Number of Reviews  \\\n",
      "0  iHealth COVID-19 Antigen Rapid Test, 2 Tests p...  17.08   157,213 ratings   \n",
      "\n",
      "       Average Rating        Date  \n",
      "0  4.5 out of 5 stars  2022-07-09  \n"
     ]
    }
   ],
   "source": [
    "#Using Pandas\n",
    "\n",
    "df = pd.read_csv(\"/Users/nikhilroy/Documents/WebScrapingProjects/AmazonWebScrape.csv\") \n",
    "print(df)"
   ]
  },
  {
   "cell_type": "code",
   "execution_count": 4,
   "id": "986083e7",
   "metadata": {},
   "outputs": [],
   "source": [
    "#Function that automatically checks the price and information daily for you\n",
    "\n",
    "def price_check():\n",
    "    \n",
    "    url = 'https://www.amazon.com/iHealth-COVID-19-Authorized-Non-invasive-Discomfort/dp/B09KZ6TBNY/ref=sr_1_1?crid=309XZ1MAR0I5F&keywords=covid+19+test+kits&qid=1657386633&s=software&sprefix=covid+19+test+kits%2Csoftware%2C59&sr=1-1'\n",
    "    header = {\"User-Agent\": \"Mozilla/5.0 (Macintosh; Intel Mac OS X 10_15_7) AppleWebKit/537.36 (KHTML, like Gecko) Chrome/100.0.4896.127 Safari/537.36\", \"Accept-Encoding\":\"gzip, deflate\", \"Accept\":\"text/html,application/xhtml+xml,application/xml;q=0.9,*/*;q=0.8\", \"DNT\":\"1\",\"Connection\":\"close\", \"Upgrade-Insecure-Requests\":\"1\"}\n",
    "\n",
    "    page = requests.get(url, headers = header)\n",
    "\n",
    "    soup1 = BeautifulSoup(page.content, \"html.parser\")\n",
    "    soup2 = BeautifulSoup(soup1.prettify(), \"html.parser\") #make this much Simpler and easier to parse\n",
    "\n",
    "    title = soup2.find(id = \"productTitle\").get_text().strip() #searches and returns the string with the certain id\n",
    "\n",
    "    date = datetime.date.today()\n",
    "\n",
    "\n",
    "    price = soup2.find(id = \"sns-base-price\").get_text().strip()\n",
    "    reviewNum = soup2.find(id = \"acrCustomerReviewText\").get_text().strip() #searches and returns the string with the certain id\n",
    "    reviewStar = soup2.find(id = \"acrPopover\").get_text().strip()\n",
    "\n",
    "    price = price.strip()[1:]\n",
    "    today = datetime.date.today()\n",
    "\n",
    "    header = [\"Price\", \"Number of Reviews\", \"Average Rating\", \"Date\"]\n",
    "    data = [price, reviewNum,reviewStar, date] \n",
    "    \n",
    "    with open('AmazonWebScrape.csv', 'a+', newline='', encoding='UTF8') as f:\n",
    "        writer = csv.writer(f)\n",
    "        writer.writerow(data)"
   ]
  },
  {
   "cell_type": "code",
   "execution_count": 5,
   "id": "8f3580d4",
   "metadata": {},
   "outputs": [
    {
     "ename": "KeyboardInterrupt",
     "evalue": "",
     "output_type": "error",
     "traceback": [
      "\u001b[0;31m---------------------------------------------------------------------------\u001b[0m",
      "\u001b[0;31mKeyboardInterrupt\u001b[0m                         Traceback (most recent call last)",
      "\u001b[0;32m<ipython-input-5-39e54ad8f4c8>\u001b[0m in \u001b[0;36m<module>\u001b[0;34m\u001b[0m\n\u001b[1;32m      1\u001b[0m \u001b[0;32mwhile\u001b[0m\u001b[0;34m(\u001b[0m\u001b[0;32mTrue\u001b[0m\u001b[0;34m)\u001b[0m\u001b[0;34m:\u001b[0m\u001b[0;34m\u001b[0m\u001b[0;34m\u001b[0m\u001b[0m\n\u001b[1;32m      2\u001b[0m     \u001b[0mprice_check\u001b[0m\u001b[0;34m(\u001b[0m\u001b[0;34m)\u001b[0m\u001b[0;34m\u001b[0m\u001b[0;34m\u001b[0m\u001b[0m\n\u001b[0;32m----> 3\u001b[0;31m     \u001b[0mtime\u001b[0m\u001b[0;34m.\u001b[0m\u001b[0msleep\u001b[0m\u001b[0;34m(\u001b[0m\u001b[0;36m86400\u001b[0m\u001b[0;34m)\u001b[0m \u001b[0;31m# will rerun to check if there is a price difference every second (86,400 seconds in a day)\u001b[0m\u001b[0;34m\u001b[0m\u001b[0;34m\u001b[0m\u001b[0m\n\u001b[0m",
      "\u001b[0;31mKeyboardInterrupt\u001b[0m: "
     ]
    }
   ],
   "source": [
    "while(True):\n",
    "    price_check()\n",
    "    time.sleep(86400) # will rerun to check if there is a price difference every second (86,400 seconds in a day)"
   ]
  },
  {
   "cell_type": "markdown",
   "id": "382f2315",
   "metadata": {},
   "source": []
  }
 ],
 "metadata": {
  "kernelspec": {
   "display_name": "Python 3",
   "language": "python",
   "name": "python3"
  },
  "language_info": {
   "codemirror_mode": {
    "name": "ipython",
    "version": 3
   },
   "file_extension": ".py",
   "mimetype": "text/x-python",
   "name": "python",
   "nbconvert_exporter": "python",
   "pygments_lexer": "ipython3",
   "version": "3.8.8"
  }
 },
 "nbformat": 4,
 "nbformat_minor": 5
}
