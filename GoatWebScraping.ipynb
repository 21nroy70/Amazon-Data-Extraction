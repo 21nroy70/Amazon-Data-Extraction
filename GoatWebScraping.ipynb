{
 "cells": [
  {
   "cell_type": "markdown",
   "id": "5d79232e",
   "metadata": {},
   "source": [
    "# Sneaker Bargain Project:\n",
    "<br> <br>\n",
    "## Background Information about GOAT\n",
    "<br> <br>\n",
    "###   The multi billion dollar company, GOAT, is an app that mainly sells sneakers and shoes that you would not typically find in your average Nike store. People resell sneakers on this company and GOAT acts like a third party assistance for people buying and selling sneakers. GOAT is 100% used virtually through an app where one would shop and buy for sneakers. \n",
    "<br> <br>\n",
    "### For instance, let's say someone is selling a particular style of a Jordan 1 Nike shoe for 350 dollars. It will be posted online for anyone to view, and the person who decides to buy that sneaker will get the shoe - typically within 5-7 business days. \n",
    "<br> <br>\n",
    "### To buy the shoe, you would either use a credit/debit card or apple pay to officially buy the sneakers Then, GOAT provides roughly a 13-16 dollar verification and shipping fee in which the person selling the shoe ships it to GOAT's facility for verification first. Finally, once the sneaker is confirmed to be authentic (lot of people try to sell fakes), GOAT than ships it directly to the buyer whom paid the seller.\n",
    "<br> <br>\n",
    "## Thus, For this Project, I will be using web scraping techniques to digest data about a particular sneaker to automatically send me an email whenever that sneaker drops drastically in its value"
   ]
  },
  {
   "cell_type": "code",
   "execution_count": 20,
   "id": "17a81f04",
   "metadata": {},
   "outputs": [],
   "source": [
    "from bs4 import BeautifulSoup\n",
    "import requests\n",
    "import time\n",
    "import datetime\n",
    "\n",
    "import smtplib"
   ]
  },
  {
   "cell_type": "code",
   "execution_count": 21,
   "id": "be283943",
   "metadata": {},
   "outputs": [
    {
     "name": "stdout",
     "output_type": "stream",
     "text": [
      "2022-09-05\n"
     ]
    }
   ],
   "source": [
    "date = datetime.date.today()\n",
    "print(date)"
   ]
  },
  {
   "cell_type": "code",
   "execution_count": 37,
   "id": "c6908f6a",
   "metadata": {},
   "outputs": [
    {
     "ename": "TypeError",
     "evalue": "can only concatenate str (not \"NoneType\") to str",
     "output_type": "error",
     "traceback": [
      "\u001b[0;31m---------------------------------------------------------------------------\u001b[0m",
      "\u001b[0;31mTypeError\u001b[0m                                 Traceback (most recent call last)",
      "\u001b[0;32m<ipython-input-37-3d6d911c27a7>\u001b[0m in \u001b[0;36m<module>\u001b[0;34m\u001b[0m\n\u001b[1;32m     10\u001b[0m \u001b[0;34m\u001b[0m\u001b[0m\n\u001b[1;32m     11\u001b[0m \u001b[0mprice\u001b[0m \u001b[0;34m=\u001b[0m \u001b[0msoup2\u001b[0m\u001b[0;34m.\u001b[0m\u001b[0mfind\u001b[0m\u001b[0;34m(\u001b[0m\u001b[0;34m'span'\u001b[0m\u001b[0;34m,\u001b[0m \u001b[0;34m{\u001b[0m\u001b[0;34m'data-qa'\u001b[0m\u001b[0;34m:\u001b[0m \u001b[0;34m'product_variant_price'\u001b[0m\u001b[0;34m}\u001b[0m\u001b[0;34m)\u001b[0m\u001b[0;34m\u001b[0m\u001b[0;34m\u001b[0m\u001b[0m\n\u001b[0;32m---> 12\u001b[0;31m \u001b[0mprint\u001b[0m\u001b[0;34m(\u001b[0m\u001b[0;34m\"Price: \"\u001b[0m \u001b[0;34m+\u001b[0m \u001b[0mprice\u001b[0m \u001b[0;34m+\u001b[0m \u001b[0;34m\"\\n\"\u001b[0m\u001b[0;34m)\u001b[0m\u001b[0;34m\u001b[0m\u001b[0;34m\u001b[0m\u001b[0m\n\u001b[0m",
      "\u001b[0;31mTypeError\u001b[0m: can only concatenate str (not \"NoneType\") to str"
     ]
    }
   ],
   "source": [
    "#Jordan 1 University Blue Shoe Size 8:\n",
    "\n",
    "url = 'https://www.goat.com/sneakers/air-jordan-1-retro-high-og-university-blue-555088-134'\n",
    "\n",
    "header = {\"User-Agent\": \"Mozilla/5.0 (Macintosh; Intel Mac OS X 10_15_7) AppleWebKit/537.36 (KHTML, like Gecko) Chrome/100.0.4896.127 Safari/537.36\", \"Accept-Encoding\":\"gzip, deflate\", \"Accept\":\"text/html,application/xhtml+xml,application/xml;q=0.9,*/*;q=0.8\", \"DNT\":\"1\",\"Connection\":\"close\", \"Upgrade-Insecure-Requests\":\"1\"}\n",
    "page = requests.get(url, headers = header)\n",
    "\n",
    "soup1 = BeautifulSoup(page.content, \"html.parser\")\n",
    "soup2 = BeautifulSoup(soup1.prettify(), \"html.parser\") #make this much Simpler and easier to parse\n",
    "\n",
    "price = soup2.find('span', {'data-qa': 'product_variant_price'}).get_text()\n",
    "print(\"Price: \" + price + \"\\n\")"
   ]
  }
 ],
 "metadata": {
  "kernelspec": {
   "display_name": "Python 3",
   "language": "python",
   "name": "python3"
  },
  "language_info": {
   "codemirror_mode": {
    "name": "ipython",
    "version": 3
   },
   "file_extension": ".py",
   "mimetype": "text/x-python",
   "name": "python",
   "nbconvert_exporter": "python",
   "pygments_lexer": "ipython3",
   "version": "3.8.8"
  }
 },
 "nbformat": 4,
 "nbformat_minor": 5
}
